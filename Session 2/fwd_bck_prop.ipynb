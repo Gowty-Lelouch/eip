{
 "cells": [
  {
   "cell_type": "code",
   "execution_count": 1,
   "metadata": {},
   "outputs": [],
   "source": [
    "import numpy as np"
   ]
  },
  {
   "cell_type": "code",
   "execution_count": 2,
   "metadata": {},
   "outputs": [],
   "source": [
    "# Initialize input\n",
    "X = np.array([[1, 0, 1, 0],\n",
    "              [1, 0, 1, 1],\n",
    "              [0, 1, 0, 1]])"
   ]
  },
  {
   "cell_type": "code",
   "execution_count": 3,
   "metadata": {},
   "outputs": [],
   "source": [
    "# Randomly initialize Weights\n",
    "W = np.array([[.42, .88 , .55],\n",
    "             [.1, .73, .68],\n",
    "             [.6, .18, .47],\n",
    "             [.92, .11, .52]])"
   ]
  },
  {
   "cell_type": "code",
   "execution_count": 52,
   "metadata": {},
   "outputs": [
    {
     "data": {
      "text/plain": [
       "array([[0.48349947, 0.43856219, 0.09061309],\n",
       "       [0.56103964, 0.03150729, 0.02310984],\n",
       "       [0.24951628, 0.80523213, 0.55870699],\n",
       "       [0.81335436, 0.09536998, 0.95689467]])"
      ]
     },
     "execution_count": 52,
     "metadata": {},
     "output_type": "execute_result"
    }
   ],
   "source": [
    "W = np.random.random(size=(4,3))\n",
    "W"
   ]
  },
  {
   "cell_type": "code",
   "execution_count": 4,
   "metadata": {},
   "outputs": [],
   "source": [
    "# Randomly initialize biases\n",
    "b = np.array([.46, .72, .08])"
   ]
  },
  {
   "cell_type": "code",
   "execution_count": 53,
   "metadata": {},
   "outputs": [
    {
     "data": {
      "text/plain": [
       "array([[0.69092939],\n",
       "       [0.54861474],\n",
       "       [0.04688339]])"
      ]
     },
     "execution_count": 53,
     "metadata": {},
     "output_type": "execute_result"
    }
   ],
   "source": [
    "b = np.random.random(size=(3, 1))\n",
    "b"
   ]
  },
  {
   "cell_type": "code",
   "execution_count": 54,
   "metadata": {},
   "outputs": [
    {
     "data": {
      "text/plain": [
       "array([[1.42394514, 1.93472371, 1.34024946],\n",
       "       [2.09498485, 1.88777905, 2.15482948],\n",
       "       [1.42127739, 0.17376066, 1.0268879 ]])"
      ]
     },
     "execution_count": 54,
     "metadata": {},
     "output_type": "execute_result"
    }
   ],
   "source": [
    "# Calculate output of hidden layer 1\n",
    "hidden = np.dot(X, W) + b\n",
    "hidden"
   ]
  },
  {
   "cell_type": "code",
   "execution_count": 55,
   "metadata": {},
   "outputs": [
    {
     "data": {
      "text/plain": [
       "array([[0.80595615, 0.87377134, 0.79253096],\n",
       "       [0.89041478, 0.86850209, 0.89611921],\n",
       "       [0.80553859, 0.5433312 , 0.7363121 ]])"
      ]
     },
     "execution_count": 55,
     "metadata": {},
     "output_type": "execute_result"
    }
   ],
   "source": [
    "# Applying Sigmoid\n",
    "hidden_activation = 1/(1 + np.exp(-hidden))\n",
    "hidden_activation"
   ]
  },
  {
   "cell_type": "code",
   "execution_count": 11,
   "metadata": {},
   "outputs": [],
   "source": [
    "#Used for checking first time\n",
    "W_out = np.array([0.3, 0.25, 0.23])\n",
    "b_out = 0.69"
   ]
  },
  {
   "cell_type": "code",
   "execution_count": 56,
   "metadata": {},
   "outputs": [],
   "source": [
    "# Random initialisation\n",
    "W_out = np.random.random(size=(3,1))\n",
    "b_out = np.random.random(size=1)"
   ]
  },
  {
   "cell_type": "code",
   "execution_count": 57,
   "metadata": {},
   "outputs": [
    {
     "data": {
      "text/plain": [
       "(array([[0.78926818],\n",
       "        [0.15470272],\n",
       "        [0.8590978 ]]), array([0.73721703]))"
      ]
     },
     "execution_count": 57,
     "metadata": {},
     "output_type": "execute_result"
    }
   ],
   "source": [
    "W_out, b_out"
   ]
  },
  {
   "cell_type": "code",
   "execution_count": 58,
   "metadata": {},
   "outputs": [
    {
     "data": {
      "text/plain": [
       "array([[2.18936898],\n",
       "       [2.34420676],\n",
       "       [2.08962193]])"
      ]
     },
     "execution_count": 58,
     "metadata": {},
     "output_type": "execute_result"
    }
   ],
   "source": [
    "output = np.dot(hidden_activation, W_out) + b_out\n",
    "output"
   ]
  },
  {
   "cell_type": "code",
   "execution_count": 13,
   "metadata": {},
   "outputs": [],
   "source": [
    "def sigmoid(x):\n",
    "    return 1/(1+np.exp(-x))"
   ]
  },
  {
   "cell_type": "code",
   "execution_count": 59,
   "metadata": {},
   "outputs": [
    {
     "data": {
      "text/plain": [
       "array([[0.89929077],\n",
       "       [0.91247265],\n",
       "       [0.88989039]])"
      ]
     },
     "execution_count": 59,
     "metadata": {},
     "output_type": "execute_result"
    }
   ],
   "source": [
    "output_activation = sigmoid(output)\n",
    "output_activation"
   ]
  },
  {
   "cell_type": "code",
   "execution_count": 60,
   "metadata": {},
   "outputs": [],
   "source": [
    "# Store output in y\n",
    "Y = np.array([1, 1, 0])"
   ]
  },
  {
   "cell_type": "code",
   "execution_count": 61,
   "metadata": {},
   "outputs": [],
   "source": [
    "def derivative_sigmoid(x):\n",
    "    return x * (1 -x)"
   ]
  },
  {
   "cell_type": "code",
   "execution_count": 65,
   "metadata": {},
   "outputs": [
    {
     "data": {
      "text/plain": [
       "((3,), (3, 1))"
      ]
     },
     "execution_count": 65,
     "metadata": {},
     "output_type": "execute_result"
    }
   ],
   "source": [
    "Y.shape, output_activation.shape"
   ]
  },
  {
   "cell_type": "code",
   "execution_count": 66,
   "metadata": {},
   "outputs": [
    {
     "data": {
      "text/plain": [
       "array([[ 0.10070923],\n",
       "       [ 0.08752735],\n",
       "       [-0.88989039]])"
      ]
     },
     "execution_count": 66,
     "metadata": {},
     "output_type": "execute_result"
    }
   ],
   "source": [
    "E = Y.reshape(3,1) - output_activation\n",
    "E"
   ]
  },
  {
   "cell_type": "code",
   "execution_count": 24,
   "metadata": {},
   "outputs": [
    {
     "name": "stdout",
     "output_type": "stream",
     "text": [
      "Slope at Output Layer\n",
      "[0.16629159 0.16115766 0.16628507]\n",
      "Slope at Hidden Layer\n",
      "[[0.15104409 0.12347974 0.18736988]\n",
      " [0.076255   0.11401936 0.13791222]\n",
      " [0.15104409 0.14349349 0.17022212]]\n"
     ]
    }
   ],
   "source": [
    "# Calculate derivate at output layer\n",
    "slope_op = derivative_sigmoid(output_activation)\n",
    "print('Slope at Output Layer')\n",
    "print(slope_op)\n",
    "\n",
    "slope_hidden = derivative_sigmoid(hidden_activation)\n",
    "print(\"Slope at Hidden Layer\")\n",
    "print(slope_hidden)"
   ]
  },
  {
   "cell_type": "code",
   "execution_count": 67,
   "metadata": {},
   "outputs": [],
   "source": [
    "# Setting Learning rate\n",
    "\n",
    "lr = 0.1"
   ]
  },
  {
   "cell_type": "code",
   "execution_count": 69,
   "metadata": {},
   "outputs": [
    {
     "data": {
      "text/plain": [
       "((3, 1), (3,))"
      ]
     },
     "execution_count": 69,
     "metadata": {},
     "output_type": "execute_result"
    }
   ],
   "source": [
    "E.shape, slope_op.shape"
   ]
  },
  {
   "cell_type": "code",
   "execution_count": 70,
   "metadata": {},
   "outputs": [
    {
     "data": {
      "text/plain": [
       "array([ 0.0167471 ,  0.0141057 , -0.14797549])"
      ]
     },
     "execution_count": 70,
     "metadata": {},
     "output_type": "execute_result"
    }
   ],
   "source": [
    "#Compute Delta at Output Layer\n",
    "\n",
    "delta_op = E.reshape(3) * slope_op\n",
    "delta_op"
   ]
  },
  {
   "cell_type": "code",
   "execution_count": 71,
   "metadata": {},
   "outputs": [
    {
     "data": {
      "text/plain": [
       "((3,), (3, 1))"
      ]
     },
     "execution_count": 71,
     "metadata": {},
     "output_type": "execute_result"
    }
   ],
   "source": [
    "# Checking shapes\n",
    "\n",
    "delta_op.shape, W_out.shape"
   ]
  },
  {
   "cell_type": "code",
   "execution_count": 72,
   "metadata": {},
   "outputs": [],
   "source": [
    "delta_op = delta_op.reshape(delta_op.shape[0], 1)\n",
    "W_out = W_out.reshape(W_out.shape[0], 1)"
   ]
  },
  {
   "cell_type": "code",
   "execution_count": 73,
   "metadata": {},
   "outputs": [
    {
     "data": {
      "text/plain": [
       "array([[ 0.01321795,  0.00259082,  0.01438739],\n",
       "       [ 0.01113318,  0.00218219,  0.01211818],\n",
       "       [-0.11679234, -0.02289221, -0.12712541]])"
      ]
     },
     "execution_count": 73,
     "metadata": {},
     "output_type": "execute_result"
    }
   ],
   "source": [
    "#Compute Error at Hidden Layer\n",
    "\n",
    "error_hidden = np.dot(delta_op, W_out.T)\n",
    "error_hidden"
   ]
  },
  {
   "cell_type": "code",
   "execution_count": 74,
   "metadata": {},
   "outputs": [
    {
     "data": {
      "text/plain": [
       "array([[ 0.00199649,  0.00031991,  0.00269576],\n",
       "       [ 0.00084896,  0.00024881,  0.00167124],\n",
       "       [-0.01764079, -0.00328488, -0.02163956]])"
      ]
     },
     "execution_count": 74,
     "metadata": {},
     "output_type": "execute_result"
    }
   ],
   "source": [
    "#Compute Delta at Hidden Layer\n",
    "# Error at Hidden Layer * Slope at Hidden Layer\n",
    "\n",
    "delta_hidden = error_hidden * slope_hidden\n",
    "delta_hidden"
   ]
  },
  {
   "cell_type": "code",
   "execution_count": 75,
   "metadata": {},
   "outputs": [],
   "source": [
    "#Update Weights\n",
    "#wout = wout + matrix_dot_product(hiddenlayer_activations.Transpose, d_output)*learning_rate\n",
    "#wh =  wh+ matrix_dot_product(X.Transpose,d_hiddenlayer)*learning_rate\n",
    "\n",
    "W_out = W_out + np.dot(hidden_activation.T, delta_op) * lr\n",
    "W = W + + np.dot(X.T, delta_hidden) * lr"
   ]
  },
  {
   "cell_type": "code",
   "execution_count": 76,
   "metadata": {},
   "outputs": [
    {
     "data": {
      "text/plain": [
       "array([[0.77995392],\n",
       "       [0.14935115],\n",
       "       [0.85079348]])"
      ]
     },
     "execution_count": 76,
     "metadata": {},
     "output_type": "execute_result"
    }
   ],
   "source": [
    "W_out"
   ]
  },
  {
   "cell_type": "code",
   "execution_count": 77,
   "metadata": {},
   "outputs": [
    {
     "data": {
      "text/plain": [
       "array([[0.48378402, 0.43861907, 0.09104979],\n",
       "       [0.55927556, 0.0311788 , 0.02094588],\n",
       "       [0.24980083, 0.805289  , 0.55914369],\n",
       "       [0.81167517, 0.09506638, 0.95489784]])"
      ]
     },
     "execution_count": 77,
     "metadata": {},
     "output_type": "execute_result"
    }
   ],
   "source": [
    "W"
   ]
  },
  {
   "cell_type": "code",
   "execution_count": 81,
   "metadata": {},
   "outputs": [
    {
     "data": {
      "text/plain": [
       "(1,)"
      ]
     },
     "execution_count": 81,
     "metadata": {},
     "output_type": "execute_result"
    }
   ],
   "source": [
    "b_out = np.array([0.73721703])\n",
    "b_out.shape"
   ]
  },
  {
   "cell_type": "code",
   "execution_count": 82,
   "metadata": {},
   "outputs": [],
   "source": [
    "#Update Biases\n",
    "#bh = bh + sum(d_hiddenlayer, axis=0) * learning_rate\n",
    "#bout = bout + sum(d_output, axis=0)*learning_rate\n",
    "b = b.reshape(b.shape[0]) + np.sum(delta_hidden, axis=0) * lr\n",
    "b_out = b_out.reshape(b_out.shape[0]) + np.sum(delta_op, axis=0) * lr"
   ]
  },
  {
   "cell_type": "code",
   "execution_count": 83,
   "metadata": {},
   "outputs": [
    {
     "data": {
      "text/plain": [
       "(array([0.68944986, 0.54834312, 0.04515614]), array([0.72550476]))"
      ]
     },
     "execution_count": 83,
     "metadata": {},
     "output_type": "execute_result"
    }
   ],
   "source": [
    "b, b_out"
   ]
  }
 ],
 "metadata": {
  "kernelspec": {
   "display_name": "Python [conda env:anaconda3]",
   "language": "python",
   "name": "conda-env-anaconda3-py"
  },
  "language_info": {
   "codemirror_mode": {
    "name": "ipython",
    "version": 3
   },
   "file_extension": ".py",
   "mimetype": "text/x-python",
   "name": "python",
   "nbconvert_exporter": "python",
   "pygments_lexer": "ipython3",
   "version": "3.6.5"
  }
 },
 "nbformat": 4,
 "nbformat_minor": 2
}
